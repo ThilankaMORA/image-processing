{
 "cells": [
  {
   "cell_type": "code",
   "execution_count": 11,
   "metadata": {},
   "outputs": [],
   "source": [
    "import numpy as np\n",
    "import cv2 as cv\n",
    "from scipy . optimize import minimize\n",
    "from scipy import linalg\n",
    "import matplotlib . pyplot as plt\n",
    "%matplotlib inline"
   ]
  },
  {
   "cell_type": "code",
   "execution_count": 13,
   "metadata": {},
   "outputs": [
    {
     "data": {
      "image/png": "[encoded data removed]",
      "text/plain": [
       "<Figure size 360x360 with 1 Axes>"
      ]
     },
     "metadata": {
      "needs_background": "light"
     },
     "output_type": "display_data"
    }
   ],
   "source": [
    "N = 100\n",
    "half_n = N// 2\n",
    "r = 10\n",
    "s = r /16\n",
    "t = np.random.uniform(0, 2*np.pi, half_n )\n",
    "\n",
    "n = s*np.random.randn(half_n)\n",
    "x, y = (r+n)*np.cos(t),(r+n)*np.sin(t)\n",
    "\n",
    "X_circ = np.hstack((x.reshape(half_n,1), y.reshape(half_n, 1)))\n",
    "\n",
    "fig = plt.figure(figsize=(5,5))\n",
    "ax = fig.add_subplot()\n",
    "ax.plot(x,y,'o',color='green')\n",
    "ax.set_aspect('equal')\n",
    "\n",
    "plt.show()"
   ]
  },
  {
   "cell_type": "code",
   "execution_count": 14,
   "metadata": {},
   "outputs": [],
   "source": [
    "total_points = len(x)\n",
    "p = 0.99\n",
    "s = 3\n",
    "e = 0.5\n",
    "N = int(np.ceil(np.log(1-p)/np.log(1-((1-e)**s))))"
   ]
  },
  {
   "cell_type": "code",
   "execution_count": 16,
   "metadata": {},
   "outputs": [],
   "source": [
    "corners = []\n",
    "def click_left_button(event, x, y, flags, params):\n",
    "    if event == cv.EVENT_LBUTTONDOWN:\n",
    "        corners.append([x,y])\n",
    "    \n",
    "\n",
    "img = cv.imread(r\"C:\\Users\\thilanka bandara\\Downloads\\images\\001.jpg\")\n",
    "cv.imshow('image', img)\n",
    "cv.setMouseCallback('image', click_left_button)\n",
    "cv.waitKey(0)\n",
    "cv.destroyAllWindows()"
   ]
  }
 ],
 "metadata": {
  "interpreter": {
   "hash": "496ff8159f4f2f9d555ff637129ff3ba0139af38c4f817cc0d845cfbb25fcd5c"
  },
  "kernelspec": {
   "display_name": "Python 3.8.0 32-bit",
   "language": "python",
   "name": "python3"
  },
  "language_info": {
   "codemirror_mode": {
    "name": "ipython",
    "version": 3
   },
   "file_extension": ".py",
   "mimetype": "text/x-python",
   "name": "python",
   "nbconvert_exporter": "python",
   "pygments_lexer": "ipython3",
   "version": "3.10.2"
  },
  "orig_nbformat": 4
 },
 "nbformat": 4,
 "nbformat_minor": 2
}
